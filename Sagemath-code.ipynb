{
 "cells": [
  {
   "cell_type": "markdown",
   "id": "3761a47d",
   "metadata": {},
   "source": [
    "# Construction of negacyclic code $\\langle g\\rangle$ of length $n,$ where $x^n+1\\equiv 0\\mod gg^*$ and $g|x^n+1$"
   ]
  },
  {
   "cell_type": "markdown",
   "id": "a898c0b7",
   "metadata": {},
   "source": [
    "Choose the length of codes $n$ and the order of finite field $\\mathbb{F}_q$"
   ]
  },
  {
   "cell_type": "code",
   "execution_count": 11,
   "id": "8a1ec1e6",
   "metadata": {},
   "outputs": [],
   "source": [
    "n = 14\n",
    "q = 5"
   ]
  },
  {
   "cell_type": "markdown",
   "id": "387f8bf9",
   "metadata": {},
   "source": [
    "Write $f = x^n+1$ and determine the factorization of $f$"
   ]
  },
  {
   "cell_type": "code",
   "execution_count": 12,
   "id": "2e1367ff",
   "metadata": {},
   "outputs": [
    {
     "name": "stdout",
     "output_type": "stream",
     "text": [
      "Irreducible factors of x^14 + 1: \n",
      "\n",
      "x + 2 with multiplicity 1\n",
      "x + 3 with multiplicity 1\n",
      "x^6 + 2*x^5 + 4*x^4 + 3*x^3 + x^2 + 2*x + 4 with multiplicity 1\n",
      "x^6 + 3*x^5 + 4*x^4 + 2*x^3 + x^2 + 3*x + 4 with multiplicity 1\n"
     ]
    }
   ],
   "source": [
    "x = PolynomialRing(GF(q),'x').gen()\n",
    "f = x^n+1\n",
    "\n",
    "factors_list = f.factor()\n",
    "n_irred_factor = len(factors_list)\n",
    "\n",
    "print(f'Irreducible factors of {f}: ')\n",
    "print('')\n",
    "for i in range(n_irred_factor):\n",
    "    print(f'{factors_list[i][0]} with multiplicity {factors_list[i][1]}')\n"
   ]
  },
  {
   "cell_type": "markdown",
   "id": "76de7f9f",
   "metadata": {},
   "source": [
    "Function for creating a negacyclic code generator matrix"
   ]
  },
  {
   "cell_type": "code",
   "execution_count": 13,
   "id": "81c97ec6",
   "metadata": {},
   "outputs": [],
   "source": [
    "def nega_cyc(a):\n",
    "    m = len(a)\n",
    "    result = []\n",
    "    \n",
    "    for i in range(m):\n",
    "        if i == 0:\n",
    "            if a[m-1] != 0:\n",
    "                result.append(-a[m-1])\n",
    "            else:\n",
    "                result.append(0)\n",
    "        else:\n",
    "            result.append(a[i-1])\n",
    "    return result"
   ]
  },
  {
   "cell_type": "markdown",
   "id": "f1707dc4",
   "metadata": {},
   "source": [
    "Function for creating vector representation of a polynomial $g$"
   ]
  },
  {
   "cell_type": "code",
   "execution_count": 14,
   "id": "11821728",
   "metadata": {},
   "outputs": [],
   "source": [
    "def poly_to_vector(g,n):\n",
    "    \n",
    "    g_vector = []\n",
    "    \n",
    "    for k in range(n):\n",
    "        g_vector.append(0)\n",
    "    \n",
    "    g_coeffs = g.coefficients(sparse=False)\n",
    "    for t in range(g.degree()+1):\n",
    "        g_vector[t] = g_coeffs[t]\n",
    "    \n",
    "    return g_vector"
   ]
  },
  {
   "cell_type": "markdown",
   "id": "880d9176",
   "metadata": {},
   "source": [
    "Function for generating a negacyclic code with a given generator (in vector form) and dimension"
   ]
  },
  {
   "cell_type": "code",
   "execution_count": 15,
   "id": "e036b72d",
   "metadata": {},
   "outputs": [],
   "source": [
    "import numpy as np\n",
    "\n",
    "def gen_linear_code(n,g_vector,dim):\n",
    "    G1 = g_vector\n",
    "    for i in range(dim-1):\n",
    "        if i == 0:\n",
    "            tmp = nega_cyc(g_vector)\n",
    "        else:\n",
    "            tmp = nega_cyc(tmp)\n",
    "    \n",
    "        G1 = np.vstack((G1,tmp))\n",
    "\n",
    "    G = matrix(GF(3),G1)\n",
    "    C = LinearCode(G)\n",
    "    \n",
    "    return C"
   ]
  },
  {
   "cell_type": "markdown",
   "id": "ba9db3de",
   "metadata": {},
   "source": [
    "Construct negacyclic code $\\langle g\\rangle$ for all $g|x^n+1$ and $x^n+1\\equiv 0\\mod gg^*$"
   ]
  },
  {
   "cell_type": "code",
   "execution_count": 16,
   "id": "08f306b7",
   "metadata": {},
   "outputs": [
    {
     "name": "stdout",
     "output_type": "stream",
     "text": [
      "Special negacyclic codes of length 14 over F_5\n",
      "\n",
      "Generator polynomial                                              Dimension                            Hamming distance\n",
      "========================================================================================================================\n",
      "\n",
      "x + 2                                                                13                                       2\n",
      "x + 3                                                                13                                       1\n",
      "x^6 + 2*x^5 + 4*x^4 + 3*x^3 + x^2 + 2*x + 4                          8                                        4\n",
      "x^6 + 3*x^5 + 4*x^4 + 2*x^3 + x^2 + 3*x + 4                          8                                        4\n"
     ]
    }
   ],
   "source": [
    "import numpy as np\n",
    "print(f'Special negacyclic codes of length {n} over F_{q}')\n",
    "print('')\n",
    "print('Generator polynomial                                              Dimension                            Hamming distance')\n",
    "print('='*120)\n",
    "print('')\n",
    "\n",
    "for i in range(len(factors_list)):\n",
    "    for j in range(factors_list[i][1]+1):\n",
    "        if j == 0:\n",
    "            next\n",
    "        else:\n",
    "            g = factors_list[i][0]^j\n",
    "            d_g = g.degree()\n",
    "            g_recip = x^(d_g)*g(x^(-1))\n",
    "            gg_recip = g*g_recip\n",
    "        \n",
    "            if g == f:\n",
    "                next\n",
    "            elif f.mod(gg_recip) == 0:\n",
    "                g_vector = poly_to_vector(g,n)\n",
    "                dim = n-d_g\n",
    "                C = gen_linear_code(n,g_vector,dim)\n",
    "                C_distance = C.minimum_distance()\n",
    "                \n",
    "                g_print = str(g)\n",
    "                dim_print = str(dim)\n",
    "                g_print = \"{:<68}\".format(g_print)\n",
    "                dim_print = \"{:<40}\".format(dim_print)\n",
    "                print(g_print, dim_print, C_distance)\n",
    "            else:\n",
    "                j = factors_list[i][1]\n",
    "            "
   ]
  },
  {
   "cell_type": "markdown",
   "id": "afdff628",
   "metadata": {},
   "source": [
    "# Construction of cyclic code $\\langle g\\rangle$ of length $n,$ where $x^n-1\\equiv 0\\mod gg^*$ and $g|x^n-1$"
   ]
  },
  {
   "cell_type": "markdown",
   "id": "4c2cee2f",
   "metadata": {},
   "source": [
    "Similar to the above construction, simply set $f=x^n-1$"
   ]
  },
  {
   "cell_type": "markdown",
   "id": "2ea37b43",
   "metadata": {},
   "source": [
    "Write $f = x^n-1$ and determine the factorization of $f$"
   ]
  },
  {
   "cell_type": "code",
   "execution_count": 17,
   "id": "5ad799f9",
   "metadata": {},
   "outputs": [
    {
     "name": "stdout",
     "output_type": "stream",
     "text": [
      "Irreducible factors of x^14 + 4: \n",
      "\n",
      "x + 1 with multiplicity 1\n",
      "x + 4 with multiplicity 1\n",
      "x^6 + x^5 + x^4 + x^3 + x^2 + x + 1 with multiplicity 1\n",
      "x^6 + 4*x^5 + x^4 + 4*x^3 + x^2 + 4*x + 1 with multiplicity 1\n"
     ]
    }
   ],
   "source": [
    "x = PolynomialRing(GF(q),'x').gen()\n",
    "f = x^n-1\n",
    "\n",
    "factors_list = f.factor()\n",
    "n_irred_factor = len(factors_list)\n",
    "\n",
    "print(f'Irreducible factors of {f}: ')\n",
    "print('')\n",
    "for i in range(n_irred_factor):\n",
    "    print(f'{factors_list[i][0]} with multiplicity {factors_list[i][1]}')\n"
   ]
  },
  {
   "cell_type": "markdown",
   "id": "31627949",
   "metadata": {},
   "source": [
    "Function for creating a cyclic code generator matrix"
   ]
  },
  {
   "cell_type": "code",
   "execution_count": 18,
   "id": "f3eda88f",
   "metadata": {},
   "outputs": [],
   "source": [
    "def cyc(a):\n",
    "    m = len(a)\n",
    "    result = []\n",
    "    \n",
    "    for i in range(m):\n",
    "        if i == 0:\n",
    "            result.append(a[m-1])\n",
    "        else:\n",
    "            result.append(a[i-1])\n",
    "    return result"
   ]
  },
  {
   "cell_type": "markdown",
   "id": "c13557c7",
   "metadata": {},
   "source": [
    "Function for generating a cyclic code with a given generator (in vector form) and dimension"
   ]
  },
  {
   "cell_type": "code",
   "execution_count": 19,
   "id": "3a7baac4",
   "metadata": {},
   "outputs": [],
   "source": [
    "import numpy as np\n",
    "\n",
    "def gen_linear_code(n,g_vector,dim):\n",
    "    G1 = g_vector\n",
    "    for i in range(dim-1):\n",
    "        if i == 0:\n",
    "            tmp = cyc(g_vector)\n",
    "        else:\n",
    "            tmp = cyc(tmp)\n",
    "    \n",
    "        G1 = np.vstack((G1,tmp))\n",
    "\n",
    "    G = matrix(GF(3),G1)\n",
    "    C = LinearCode(G)\n",
    "    \n",
    "    return C"
   ]
  },
  {
   "cell_type": "markdown",
   "id": "46d614d2",
   "metadata": {},
   "source": [
    "Construct negacyclic code $\\langle g\\rangle$ for all $g|x^n+1$ and $x^n+1\\equiv 0\\mod gg^*$"
   ]
  },
  {
   "cell_type": "code",
   "execution_count": 20,
   "id": "65ca62cc",
   "metadata": {
    "scrolled": false
   },
   "outputs": [
    {
     "name": "stdout",
     "output_type": "stream",
     "text": [
      "Special cyclic codes of length 14 over F_5\n",
      "\n",
      "Generator polynomial                                              Dimension                            Hamming distance\n",
      "========================================================================================================================\n",
      "\n",
      "x + 1                                                                13                                       2\n",
      "x + 4                                                                13                                       2\n",
      "x^6 + x^5 + x^4 + x^3 + x^2 + x + 1                                  8                                        2\n",
      "x^6 + 4*x^5 + x^4 + 4*x^3 + x^2 + 4*x + 1                            8                                        2\n"
     ]
    }
   ],
   "source": [
    "import numpy as np\n",
    "print(f'Special cyclic codes of length {n} over F_{q}')\n",
    "print('')\n",
    "print('Generator polynomial                                              Dimension                            Hamming distance')\n",
    "print('='*120)\n",
    "print('')\n",
    "\n",
    "for i in range(len(factors_list)):\n",
    "    for j in range(factors_list[i][1]+1):\n",
    "        if j == 0:\n",
    "            next\n",
    "        else:\n",
    "            g = factors_list[i][0]^j\n",
    "            d_g = g.degree()\n",
    "            g_recip = x^(d_g)*g(x^(-1))\n",
    "            gg_recip = g*g_recip\n",
    "        \n",
    "            if g == f:\n",
    "                next\n",
    "            elif f.mod(gg_recip) == 0:\n",
    "                g_vector = poly_to_vector(g,n)\n",
    "                dim = n-d_g\n",
    "                C = gen_linear_code(n,g_vector,dim)\n",
    "                C_distance = C.minimum_distance()\n",
    "                \n",
    "                g_print = str(g)\n",
    "                dim_print = str(dim)\n",
    "                g_print = \"{:<68}\".format(g_print)\n",
    "                dim_print = \"{:<40}\".format(dim_print)\n",
    "                print(g_print, dim_print, C_distance)\n",
    "            else:\n",
    "                j = factors_list[i][1]\n",
    "            "
   ]
  },
  {
   "cell_type": "markdown",
   "id": "7b720ef8",
   "metadata": {},
   "source": [
    "The resulting quantum error-correcting codes from a consta-cyclic code $C=\\bigoplus_{i=1}^{2^k}e_iC_i$ is $[[2^kn,2k'-2^kn,d_L]],$ where $k'=\\sum_{i=1}^{2^k}dim_{\\mathbb{F}_q}C_i$ is the dimension of $\\varphi(C)$ and $d_L=\\min\\{d_H(C_i)|i=1,\\dots,2^k\\}.$  "
   ]
  },
  {
   "cell_type": "markdown",
   "id": "6348ac38",
   "metadata": {},
   "source": [
    "Table of best known $[[n,k,d]]_{q}$ quantum codes can be found in http://quantumcodes.info/"
   ]
  }
 ],
 "metadata": {
  "kernelspec": {
   "display_name": "SageMath 9.5",
   "language": "sage",
   "name": "sagemath"
  },
  "language_info": {
   "codemirror_mode": {
    "name": "ipython",
    "version": 3
   },
   "file_extension": ".py",
   "mimetype": "text/x-python",
   "name": "python",
   "nbconvert_exporter": "python",
   "pygments_lexer": "ipython3",
   "version": "3.10.4"
  }
 },
 "nbformat": 4,
 "nbformat_minor": 5
}
